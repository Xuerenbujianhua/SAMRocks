{
 "cells": [
  {
   "cell_type": "markdown",
   "source": [
    "# 使用模型进行\"测试集-薄片\"的预测与评价，即无标签数据的预测\n",
    "## The model is used for prediction and evaluation of \"test set-slice\", i.e. prediction of unlabeled data\n",
    "\n",
    "# 薄片标签较少，因此\"测试集-薄片\"采用手动划分，防止出现某些类别没有出现在测试中\n",
    "## There are fewer wafer labels, so \"Test set - Wafer\" is manually divided to prevent certain categories from appearing in the test\n"
   ],
   "metadata": {
    "collapsed": false
   },
   "id": "4b3353c664057b83"
  },
  {
   "cell_type": "code",
   "execution_count": 1,
   "id": "initial_id",
   "metadata": {
    "collapsed": true,
    "ExecuteTime": {
     "end_time": "2025-01-08T11:53:04.763906Z",
     "start_time": "2025-01-08T11:53:01.786671Z"
    }
   },
   "outputs": [
    {
     "name": "stdout",
     "output_type": "stream",
     "text": [
      "从 data.json 文件读取的字典： {'Muscovite': 8, 'Quartz': 5, 'um': 12}\n"
     ]
    }
   ],
   "source": [
    "from Mineral_segmentation.LocalModelPredictor import LocalModelPredictor\n",
    "from scrips.Configs import Config\n",
    "import json\n",
    "\n",
    "area_limit = 150\n",
    "transparency_threshold=0.15\n",
    "\n",
    "classes = Config.Classes_rocks\n",
    "\n",
    "palette = Config.Palette_rocks\n",
    "\n",
    "label_to_value = {name: idx for idx, name in enumerate(classes)}\n",
    "\n",
    "# 从 JSON 文件读取字典\n",
    "with open('sorted_classname_mapping.json', 'r') as json_file:\n",
    "    sorted_classname_mapping = json.load(json_file)\n",
    "\n",
    "print(\"从 data.json 文件读取的字典：\", sorted_classname_mapping)\n"
   ]
  },
  {
   "cell_type": "code",
   "outputs": [],
   "source": [],
   "metadata": {
    "collapsed": false,
    "ExecuteTime": {
     "end_time": "2025-01-08T11:53:04.779204Z",
     "start_time": "2025-01-08T11:53:04.764862Z"
    }
   },
   "id": "68f7c8bcb73e7319",
   "execution_count": 1
  },
  {
   "cell_type": "code",
   "outputs": [],
   "source": [
    "# 测试集输入\n",
    "input_dir_unlabel = '../data/testdata'\n",
    "\n",
    "# 测试集标签，用于评价预测结果  (有则评价，无则不评价)\n",
    "true_masks_folder = '../data/testdata/labels'\n",
    "\n",
    "#加载训练模型的权重文件\n",
    "model_name='resnet18'\n",
    "model_checkpoint_path=r'models_result\\resnet18\\resnet18_20250108_163634.pth'\n"
   ],
   "metadata": {
    "collapsed": false,
    "ExecuteTime": {
     "end_time": "2025-01-08T11:53:04.794164Z",
     "start_time": "2025-01-08T11:53:04.780202Z"
    }
   },
   "id": "665fd2d90f32b17c",
   "execution_count": 2
  },
  {
   "cell_type": "code",
   "outputs": [
    {
     "name": "stdout",
     "output_type": "stream",
     "text": [
      "Load unlabeled data...\n"
     ]
    },
    {
     "name": "stderr",
     "output_type": "stream",
     "text": [
      "加载图像和掩膜数据: 100%|██████████| 1/1 [00:00<00:00, 30.41it/s]"
     ]
    },
    {
     "name": "stdout",
     "output_type": "stream",
     "text": [
      "Total images loaded: 1\n",
      "Total masks loaded: 1\n"
     ]
    },
    {
     "name": "stderr",
     "output_type": "stream",
     "text": [
      "\n"
     ]
    }
   ],
   "source": [
    "from Mineral_segmentation.Load_data import load_images_masks_with_measuring_scale\n",
    "\n",
    "print(\"Load unlabeled data...\")\n",
    "# 用于累积所有批次的数据\n",
    "images, masks = [], []\n",
    "image_names   = []\n",
    "measuring_scales=[]\n",
    "# 遍历生成器的每个批次\n",
    "for images_batch, masks_batch, image_names_batch, pixel_to_mm_ratios in load_images_masks_with_measuring_scale(input_dir_unlabel, batch_size=32):\n",
    "\n",
    "    # 累积每个批次的数据\n",
    "    images.extend(images_batch)\n",
    "    masks.extend(masks_batch)\n",
    "\n",
    "    image_names.extend(image_names_batch)\n",
    "\n",
    "    measuring_scales.extend(pixel_to_mm_ratios)\n",
    "\n",
    "# 此时，all_images, all_masks, all_labels中保存了所有批次的数据\n",
    "print(f\"Total images loaded: {len(images)}\")\n",
    "print(f\"Total masks loaded: {len(masks)}\")\n",
    "\n"
   ],
   "metadata": {
    "collapsed": false,
    "ExecuteTime": {
     "end_time": "2025-01-08T11:53:05.424183Z",
     "start_time": "2025-01-08T11:53:04.796158Z"
    }
   },
   "id": "3631662c811e3aeb",
   "execution_count": 3
  },
  {
   "cell_type": "code",
   "outputs": [
    {
     "name": "stdout",
     "output_type": "stream",
     "text": [
      "Particle extraction...\n"
     ]
    },
    {
     "name": "stderr",
     "output_type": "stream",
     "text": [
      "Extracting instances: 100%|██████████| 1/1 [00:03<00:00,  3.17s/it]"
     ]
    },
    {
     "name": "stdout",
     "output_type": "stream",
     "text": [
      "A total of  267 instances are extracted, covering the total image area of  91.90%.\n",
      "1-28-1-6.jpg\n"
     ]
    },
    {
     "name": "stderr",
     "output_type": "stream",
     "text": [
      "\n"
     ]
    }
   ],
   "source": [
    "\n",
    "from Mineral_segmentation.Extract_instances import extract_instances_unlabels\n",
    "\n",
    "print(\"Particle extraction...\")\n",
    "\n",
    "instances_without_label = extract_instances_unlabels(images, masks,measuring_scales=measuring_scales,area_limit=area_limit,image_names=image_names,transparency_threshold=transparency_threshold)\n",
    "\n",
    "print(instances_without_label.instances[0].original_image_name)\n",
    "   "
   ],
   "metadata": {
    "collapsed": false,
    "ExecuteTime": {
     "end_time": "2025-01-08T11:53:08.620759Z",
     "start_time": "2025-01-08T11:53:05.425179Z"
    }
   },
   "id": "efc4f9c57725ceaf",
   "execution_count": 4
  },
  {
   "cell_type": "code",
   "outputs": [],
   "source": [
    "def map_prediction_to_real_class(sorted_classname_mapping,predicted_class):\n",
    "    # sorted_classname_mapping = dict(sorted(label_to_value.items()))\n",
    "\n",
    "    key, real_class = list(sorted_classname_mapping.items())[predicted_class]\n",
    "\n",
    "    return real_class\n"
   ],
   "metadata": {
    "collapsed": false,
    "ExecuteTime": {
     "end_time": "2025-01-08T11:53:08.636717Z",
     "start_time": "2025-01-08T11:53:08.621757Z"
    }
   },
   "id": "40c0306f4848dd07",
   "execution_count": 5
  },
  {
   "cell_type": "code",
   "outputs": [
    {
     "name": "stderr",
     "output_type": "stream",
     "text": [
      "C:\\ProgramData\\anaconda3\\envs\\SAMRocks\\lib\\site-packages\\torchvision\\models\\_utils.py:208: UserWarning: The parameter 'pretrained' is deprecated since 0.13 and may be removed in the future, please use 'weights' instead.\n",
      "  warnings.warn(\n",
      "C:\\ProgramData\\anaconda3\\envs\\SAMRocks\\lib\\site-packages\\torchvision\\models\\_utils.py:223: UserWarning: Arguments other than a weight enum or `None` for 'weights' are deprecated since 0.13 and may be removed in the future. The current behavior is equivalent to passing `weights=None`.\n",
      "  warnings.warn(msg)\n",
      "D:\\XueRenWorkplace\\pycharmworkplace\\SAMRocks\\Mineral_segmentation\\LocalModelPredictor.py:31: FutureWarning: You are using `torch.load` with `weights_only=False` (the current default value), which uses the default pickle module implicitly. It is possible to construct malicious pickle data which will execute arbitrary code during unpickling (See https://github.com/pytorch/pytorch/blob/main/SECURITY.md#untrusted-models for more details). In a future release, the default value for `weights_only` will be flipped to `True`. This limits the functions that could be executed during unpickling. Arbitrary objects will no longer be allowed to be loaded via this mode unless they are explicitly allowlisted by the user via `torch.serialization.add_safe_globals`. We recommend you start setting `weights_only=True` for any use case where you don't have full control of the loaded file. Please open an issue on GitHub for any issues related to this experimental feature.\n",
      "  self.model.load_state_dict(torch.load(model_path, map_location=self.device))\n"
     ]
    }
   ],
   "source": [
    "#加载模型作为预测器\n",
    "predictor = LocalModelPredictor(\n",
    "        model_path=model_checkpoint_path,\n",
    "        model_name=model_name,\n",
    "        Num_classes=len(sorted_classname_mapping)  #要与训练的模型类别数目保持一致  Num_classes=len(classes)\n",
    "    )"
   ],
   "metadata": {
    "collapsed": false,
    "ExecuteTime": {
     "end_time": "2025-01-08T11:53:09.075807Z",
     "start_time": "2025-01-08T11:53:08.637714Z"
    }
   },
   "id": "ffee99d1c4ca6c9d",
   "execution_count": 6
  },
  {
   "cell_type": "code",
   "outputs": [
    {
     "name": "stderr",
     "output_type": "stream",
     "text": [
      "Predict: 100%|██████████| 267/267 [00:01<00:00, 146.16it/s]\n"
     ]
    }
   ],
   "source": [
    "# from Mineral_segmentation.Map_prediction_to_real_class import map_prediction_to_real_class\n",
    "from tqdm import tqdm\n",
    "\n",
    "Threshold=0\n",
    "\n",
    "for index in tqdm(range(len(instances_without_label.instances)),desc=\"Predict\",total = len(instances_without_label.instances)):\n",
    "    instance = instances_without_label.instances[index]#获取一个实例\n",
    "    path =  instance.image_path\n",
    "    predicted_class,prob = predictor.predict(path)\n",
    "    #更新实例类别\n",
    "    if prob >= Threshold:\n",
    "         # 将预测结果转化为对应的字典值\n",
    "         real_class = map_prediction_to_real_class(sorted_classname_mapping,predicted_class)\n",
    "         # print(f'{real_class}-{predicted_class} ')\n",
    "         \n",
    "    else:\n",
    "        real_class = 0\n",
    "    #更新实例类别id   \n",
    "    # print(real_class)\n",
    "    instance.cluster_id = int(real_class)#现在的类别名是数字，之后要换成类别与id的映射\n",
    "\n"
   ],
   "metadata": {
    "collapsed": false,
    "ExecuteTime": {
     "end_time": "2025-01-08T11:53:10.922528Z",
     "start_time": "2025-01-08T11:53:09.076757Z"
    }
   },
   "id": "dbe2381f9ff647df",
   "execution_count": 7
  },
  {
   "cell_type": "code",
   "outputs": [
    {
     "name": "stderr",
     "output_type": "stream",
     "text": [
      "Remasking instances: 100%|██████████| 9/9 [00:00<00:00, 63.55it/s]\n"
     ]
    }
   ],
   "source": [
    "from Mineral_segmentation.Recolor_and_Remask import remask_instance_masks\n",
    "\n",
    "output_masked_unlabels_instances = \"./results/masked_unlabels_instances\"\n",
    "#类别赋予 更新实例的_mask,保存新的掩码图像\n",
    "instances_without_label = remask_instance_masks(instances_without_label,outpath=output_masked_unlabels_instances)\n"
   ],
   "metadata": {
    "collapsed": false,
    "ExecuteTime": {
     "end_time": "2025-01-08T11:53:11.082101Z",
     "start_time": "2025-01-08T11:53:10.923525Z"
    }
   },
   "id": "9898acff62bde2d9",
   "execution_count": 8
  },
  {
   "cell_type": "code",
   "outputs": [
    {
     "name": "stderr",
     "output_type": "stream",
     "text": [
      "Reassembling masks: 100%|██████████| 267/267 [00:00<00:00, 26768.95it/s]\n"
     ]
    }
   ],
   "source": [
    "\n",
    "import os\n",
    "from Mineral_segmentation.Reassemble import reassemble_image_masks\n",
    "\n",
    "out_ressembled_unlabels_masks = os.path.join(predictor.model_dir,os.path.basename(predictor.model_dir)+'_ressembled_unlabels_masks')\n",
    "\n",
    "# output_ressembled_unlabels_masks = \"./results/ressembled_unlabels_masks\"\n",
    "reassembled_image_paths = reassemble_image_masks(instances_without_label, images,out_ressembled_unlabels_masks)\n",
    "                              \n",
    "# display_random_images(reassembled_image_paths, num_images=3)                                     "
   ],
   "metadata": {
    "collapsed": false,
    "ExecuteTime": {
     "end_time": "2025-01-08T11:53:11.129982Z",
     "start_time": "2025-01-08T11:53:11.084097Z"
    }
   },
   "id": "3eca5e12ba9690aa",
   "execution_count": 9
  },
  {
   "cell_type": "code",
   "outputs": [
    {
     "name": "stderr",
     "output_type": "stream",
     "text": [
      "paint : 100%|██████████| 1/1 [00:00<00:00,  6.43it/s]"
     ]
    },
    {
     "name": "stdout",
     "output_type": "stream",
     "text": [
      "models_result\\resnet18\\resnet18_ressembled_unlabels_images\n"
     ]
    },
    {
     "name": "stderr",
     "output_type": "stream",
     "text": [
      "\n"
     ]
    }
   ],
   "source": [
    "from Dataset.fill_zero import process_masks\n",
    "\n",
    "#填补空值 并重新上色\n",
    "out_ressembled_unlabels_images = os.path.join(predictor.model_dir,os.path.basename(predictor.model_dir)+'_ressembled_unlabels_images')\n",
    "process_masks(out_ressembled_unlabels_masks, out_ressembled_unlabels_images, palette)\n",
    "print(out_ressembled_unlabels_images)"
   ],
   "metadata": {
    "collapsed": false,
    "ExecuteTime": {
     "end_time": "2025-01-08T11:53:11.473622Z",
     "start_time": "2025-01-08T11:53:11.130981Z"
    }
   },
   "id": "870d8ce5a4edbe8d",
   "execution_count": 10
  },
  {
   "cell_type": "markdown",
   "source": [
    "# 对预测结果进行评价（若无，则可标签数据不进行评价）\n",
    "# Evaluation of prediction results (if not, label data not evaluated)"
   ],
   "metadata": {
    "collapsed": false
   },
   "id": "66af9934b45ca7d3"
  },
  {
   "cell_type": "code",
   "outputs": [
    {
     "name": "stdout",
     "output_type": "stream",
     "text": [
      "Found 1 matching files for evaluation.\n"
     ]
    },
    {
     "name": "stderr",
     "output_type": "stream",
     "text": [
      "C:\\ProgramData\\anaconda3\\envs\\SAMRocks\\lib\\site-packages\\sklearn\\metrics\\_classification.py:1469: UndefinedMetricWarning: Precision and F-score are ill-defined and being set to 0.0 in labels with no predicted samples. Use `zero_division` parameter to control this behavior.\n",
      "  _warn_prf(average, modifier, msg_start, len(result))\n",
      "C:\\ProgramData\\anaconda3\\envs\\SAMRocks\\lib\\site-packages\\sklearn\\metrics\\_classification.py:1469: UndefinedMetricWarning: Recall and F-score are ill-defined and being set to 0.0 in labels with no true samples. Use `zero_division` parameter to control this behavior.\n",
      "  _warn_prf(average, modifier, msg_start, len(result))\n",
      "C:\\ProgramData\\anaconda3\\envs\\SAMRocks\\lib\\site-packages\\sklearn\\metrics\\_classification.py:1469: UndefinedMetricWarning: Precision and F-score are ill-defined and being set to 0.0 in labels with no predicted samples. Use `zero_division` parameter to control this behavior.\n",
      "  _warn_prf(average, modifier, msg_start, len(result))\n",
      "C:\\ProgramData\\anaconda3\\envs\\SAMRocks\\lib\\site-packages\\sklearn\\metrics\\_classification.py:1469: UndefinedMetricWarning: Recall and F-score are ill-defined and being set to 0.0 in labels with no true samples. Use `zero_division` parameter to control this behavior.\n",
      "  _warn_prf(average, modifier, msg_start, len(result))\n",
      "C:\\ProgramData\\anaconda3\\envs\\SAMRocks\\lib\\site-packages\\sklearn\\metrics\\_classification.py:1469: UndefinedMetricWarning: Precision and F-score are ill-defined and being set to 0.0 in labels with no predicted samples. Use `zero_division` parameter to control this behavior.\n",
      "  _warn_prf(average, modifier, msg_start, len(result))\n",
      "C:\\ProgramData\\anaconda3\\envs\\SAMRocks\\lib\\site-packages\\sklearn\\metrics\\_classification.py:1469: UndefinedMetricWarning: Recall and F-score are ill-defined and being set to 0.0 in labels with no true samples. Use `zero_division` parameter to control this behavior.\n",
      "  _warn_prf(average, modifier, msg_start, len(result))\n"
     ]
    },
    {
     "name": "stdout",
     "output_type": "stream",
     "text": [
      "{'precision': 0.9817852916314455, 'recall': 0.9294813415815041, 'f1-score': 0.9549176385468866, 'support': 1249570.0}\n",
      "{'Muscovite': {'precision': 0.0, 'recall': 0.0, 'f1-score': 0.0, 'support': 0.0}, 'Quartz': {'precision': 0.9817852916314455, 'recall': 0.9294813415815041, 'f1-score': 0.9549176385468867, 'support': 1249570.0}, 'um': {'precision': 0.0, 'recall': 0.0, 'f1-score': 0.0, 'support': 0.0}, 'micro avg': {'precision': 0.9757452388973413, 'recall': 0.9294813415815041, 'f1-score': 0.9520515858687247, 'support': 1249570.0}, 'macro avg': {'precision': 0.3272617638771485, 'recall': 0.3098271138605014, 'f1-score': 0.3183058795156289, 'support': 1249570.0}, 'weighted avg': {'precision': 0.9817852916314455, 'recall': 0.9294813415815041, 'f1-score': 0.9549176385468866, 'support': 1249570.0}}\n",
      "Overall Accuracy: 0.9818\n",
      "Classification report saved to models_result\\resnet18\\evaluate_pix\\classification_report_pix.csv\n",
      "Confusion matrix saved to models_result\\resnet18\\evaluate_pix\\confusion_matrix_pix.png\n"
     ]
    }
   ],
   "source": [
    "import pandas as pd\n",
    "\n",
    "from Mineral_segmentation.Evaluate_pix_floder import evaluate_pix\n",
    "\n",
    "pred_masks_folder = out_ressembled_unlabels_masks\n",
    "#像素级评价结果输出路径\n",
    "output_dir_pix = os.path.join(predictor.model_dir,'evaluate_pix')\n",
    "overall_accuracy, report_df,conf_matrix = evaluate_pix(true_masks_folder, pred_masks_folder, sorted_classname_mapping, output_dir_pix)\n",
    "sorted_classname = list(sorted_classname_mapping.keys())\n",
    "conf_matrix_df=pd.DataFrame(conf_matrix,index=sorted_classname,columns=sorted_classname)\n",
    "conf_matrix_df.to_csv(output_dir_pix+'/conf_matrix.txt',sep=\"\\t\")   "
   ],
   "metadata": {
    "collapsed": false,
    "ExecuteTime": {
     "end_time": "2025-01-08T11:53:13.678057Z",
     "start_time": "2025-01-08T11:53:11.490576Z"
    }
   },
   "id": "33cc4ba3e4f11054",
   "execution_count": 11
  },
  {
   "cell_type": "code",
   "outputs": [],
   "source": [],
   "metadata": {
    "collapsed": false,
    "ExecuteTime": {
     "end_time": "2025-01-08T11:53:13.693990Z",
     "start_time": "2025-01-08T11:53:13.679038Z"
    }
   },
   "id": "dd825324d5a0f849",
   "execution_count": 11
  }
 ],
 "metadata": {
  "kernelspec": {
   "display_name": "Python 3",
   "language": "python",
   "name": "python3"
  },
  "language_info": {
   "codemirror_mode": {
    "name": "ipython",
    "version": 2
   },
   "file_extension": ".py",
   "mimetype": "text/x-python",
   "name": "python",
   "nbconvert_exporter": "python",
   "pygments_lexer": "ipython2",
   "version": "2.7.6"
  }
 },
 "nbformat": 4,
 "nbformat_minor": 5
}
