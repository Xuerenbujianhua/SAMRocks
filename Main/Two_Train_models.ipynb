{
 "cells": [
  {
   "cell_type": "markdown",
   "source": [
    "# Function:Train your own model\n"
   ],
   "metadata": {
    "collapsed": false
   },
   "id": "ee1604290d3457e9"
  },
  {
   "cell_type": "code",
   "outputs": [
    {
     "name": "stdout",
     "output_type": "stream",
     "text": [
      "['background', 'Hornblende', 'Pyroxene', 'Olivine', 'Anhydrite', 'Quartz', 'Dolomite', 'Plagioclase', 'Muscovite', 'Calcite', 'Aphanocrystalline', 'Cordierite', 'um']\n",
      "13\n"
     ]
    }
   ],
   "source": [
    "import torch\n",
    "#Color code setting\n",
    "from scrips.Configs import Config\n",
    "from Mineral_segmentation.Map_prediction_to_real_class import map_prediction_to_real_class\n",
    "\n",
    "# 路径及参数设置  Path and parameter Settings\n",
    "input_dir = r'../data/traindata'#输入文件夹 Input folder\n",
    "\n",
    "\n",
    "#area_limit是提取的最小实例面积，全部提取数量太多且噪声太多 合适的值为200-300\n",
    "#area_limit is the minimum extracted instance area, all extracted too many and too much noise the appropriate value is 200-300\n",
    "model_name = 'resnet18' #预训练的模型名称 model name\n",
    "area_limit = 150 #面积阈值 Area threshold\n",
    "transparency_threshold=0.15 #线条阈值 Line threshold\n",
    "batch_size = 64#批大小  batch size\n",
    "augmentations = 5 #增强倍数 Enhancement factor\n",
    "num_epochs = 50 #迭代轮次 Iteration round\n",
    "Training_ratio = 0.8  #训练集比例  Training ratio\n",
    "#将不同实例按照类别id进行分类并输出 Different instances are classified by category id and output\n",
    "output_folder_classified_images_labels = './results/classified_instances_with_labels'\n",
    "\n",
    "device = torch.device(\"cuda\" if torch.cuda.is_available() else \"cpu\")\n",
    "\n",
    "classes = Config.Classes_rocks\n",
    "\n",
    "palette = Config.Palette_rocks\n",
    "\n",
    "print(classes)\n",
    "print(len(classes))"
   ],
   "metadata": {
    "collapsed": false,
    "ExecuteTime": {
     "end_time": "2025-01-08T08:36:05.282314Z",
     "start_time": "2025-01-08T08:36:02.576936Z"
    }
   },
   "id": "13b9fcfdcafb5c7f",
   "execution_count": 1
  },
  {
   "cell_type": "code",
   "outputs": [
    {
     "name": "stdout",
     "output_type": "stream",
     "text": [
      "Load labeled data...\n"
     ]
    },
    {
     "name": "stderr",
     "output_type": "stream",
     "text": [
      "load data: 100%|██████████| 1/1 [00:00<00:00, 10.06it/s]"
     ]
    },
    {
     "name": "stdout",
     "output_type": "stream",
     "text": [
      "Total images loaded: 1\n",
      "Total masks loaded: 1\n",
      "Total labels loaded: 1\n",
      "cuda\n"
     ]
    },
    {
     "name": "stderr",
     "output_type": "stream",
     "text": [
      "\n"
     ]
    }
   ],
   "source": [
    "from Mineral_segmentation.Load_data import load_images_masks_labels\n",
    "\n",
    "print(\"Load labeled data...\")\n",
    "# 用于累积所有批次的数据\n",
    "images, masks, labels = [], [], []\n",
    "image_names, mask_names, label_names = [], [], []\n",
    "\n",
    "# 遍历生成器的每个批次\n",
    "for images_batch, masks_batch, labels_batch, image_names_batch, mask_names_batch, label_names_batch in load_images_masks_labels(input_dir, batch_size=batch_size):\n",
    "\n",
    "    # 累积每个批次的数据\n",
    "    images.extend(images_batch)\n",
    "    masks.extend(masks_batch)\n",
    "    labels.extend(labels_batch)\n",
    "    \n",
    "    image_names.extend(image_names_batch)\n",
    "    mask_names.extend(mask_names_batch)\n",
    "    label_names.extend(label_names_batch)\n",
    "\n",
    "# 此时，all_images, all_masks, all_labels中保存了所有批次的数据\n",
    "print(f\"Total images loaded: {len(images)}\")\n",
    "print(f\"Total masks loaded: {len(masks)}\")\n",
    "print(f\"Total labels loaded: {len(labels)}\")\n",
    "print(device)\n"
   ],
   "metadata": {
    "collapsed": false,
    "ExecuteTime": {
     "end_time": "2025-01-08T08:36:06.360002Z",
     "start_time": "2025-01-08T08:36:05.283310Z"
    }
   },
   "id": "96cdce94e60c5ec3",
   "execution_count": 2
  },
  {
   "cell_type": "code",
   "outputs": [
    {
     "name": "stdout",
     "output_type": "stream",
     "text": [
      "Particle extraction...\n"
     ]
    },
    {
     "name": "stderr",
     "output_type": "stream",
     "text": [
      "Extracting instances: 100%|██████████| 1/1 [00:03<00:00,  3.68s/it]"
     ]
    },
    {
     "name": "stdout",
     "output_type": "stream",
     "text": [
      "A total of  232 instances are extracted, covering the total image area of  98.58%.\n",
      "image name 1-8-1-2.jpg\n"
     ]
    },
    {
     "name": "stderr",
     "output_type": "stream",
     "text": [
      "\n"
     ]
    }
   ],
   "source": [
    "from Mineral_segmentation.Extract_instances import extract_instances_for_labels\n",
    "\n",
    "print(\"Particle extraction...\")\n",
    "# 实例提取（颗粒提取）: 利用sam分割结果提取岩石薄片矿物颗粒\n",
    "instances_with_label = extract_instances_for_labels(images, masks,labels,area_limit,image_names=image_names,transparency_threshold=transparency_threshold)\n",
    "print(f\"image name {instances_with_label.instances[0].original_image_name}\")\n"
   ],
   "metadata": {
    "collapsed": false,
    "ExecuteTime": {
     "end_time": "2025-01-08T08:36:11.343619Z",
     "start_time": "2025-01-08T08:36:06.361Z"
    }
   },
   "id": "1b378b704f37cb4c",
   "execution_count": 3
  },
  {
   "cell_type": "code",
   "outputs": [],
   "source": [
    "#若输出文件存在，则删除输出文件,防止数据重复,然后构建图像分类训练集和测试集\n",
    "# If the output file exists, delete it to prevent data duplication，then construct the image classification training set and test set\n",
    "\n",
    "import os, shutil\n",
    "path1 = output_folder_classified_images_labels\n",
    "shutil.rmtree(path1) if os.path.isdir(path1) else os.remove(path1) if os.path.exists(path1) else None\n",
    "path2 = os.path.dirname(output_folder_classified_images_labels)+'/Test_' + os.path.basename(output_folder_classified_images_labels)\n",
    "shutil.rmtree(path2) if os.path.isdir(path2) else os.remove(path2) if os.path.exists(path2) else None"
   ],
   "metadata": {
    "collapsed": false,
    "ExecuteTime": {
     "end_time": "2025-01-08T08:36:12.256858Z",
     "start_time": "2025-01-08T08:36:11.344655Z"
    }
   },
   "id": "f4edfacce5d1d514",
   "execution_count": 4
  },
  {
   "cell_type": "markdown",
   "source": [
    "# 构造类别id与分类id的对应关系，输入文件夹会根据类别名称排序，因此模型训练与预测的id并不是我们构造的类别id，而是根据字母排序的；若原始classes的顺序是按照字母排序的，则这步无必要，否则下面这步很重要 \n",
    "# The corresponding relationship between category id and category id is constructed. The input folders will be sorted according to the category name, so the id of model training and prediction is not the category id constructed by us, but is sorted alphabetically. This step is not necessary if the order of the original classes is alphabetical,  otherwise the following step is important"
   ],
   "metadata": {
    "collapsed": false
   },
   "id": "b2899d9fe7c3701a"
  },
  {
   "cell_type": "code",
   "outputs": [
    {
     "name": "stderr",
     "output_type": "stream",
     "text": [
      "Classify with class name: 100%|██████████| 232/232 [00:04<00:00, 48.67it/s] "
     ]
    },
    {
     "name": "stdout",
     "output_type": "stream",
     "text": [
      "./results/classified_instances_with_labels\n",
      "3\n",
      "['Muscovite', 'Quartz', 'um']\n",
      "3\n",
      "{'Muscovite': 8, 'Quartz': 5, 'um': 12}\n",
      "字典已写入 sorted_classname_mapping.json 文件。\n"
     ]
    },
    {
     "name": "stderr",
     "output_type": "stream",
     "text": [
      "\n"
     ]
    }
   ],
   "source": [
    "from Mineral_segmentation.Classified_instalces_with_labels import classify_images\n",
    "import json\n",
    "\n",
    "#带标签数据的实例提取完成之后执行分类操作，将不同的实例分类至不同id的文件夹，方便执行后续模型训练\n",
    "#文件名称为类别名称，排序后的、标签数据包含的classname 以及 id字典\n",
    "\n",
    "sorted_classname,sorted_classname_mapping = classify_images(output_folder_classified_images_labels,classes,skip_id_0=True)\n",
    "\n",
    "print(output_folder_classified_images_labels)\n",
    "print(len(sorted_classname))\n",
    "print(sorted_classname)\n",
    "print(len(sorted_classname_mapping))\n",
    "print(sorted_classname_mapping)\n",
    "\n",
    "\n",
    "import json\n",
    "data_converted = {key: int(value) for key, value in sorted_classname_mapping.items()}\n",
    "\n",
    "# 将字典写入 JSON 文件\n",
    "with open('sorted_classname_mapping.json', 'w') as json_file:\n",
    "    json.dump(data_converted, json_file, indent=4)  # indent=4 用于格式化输出，使 JSON 文件更易读\n",
    "\n",
    "print(\"字典已写入 sorted_classname_mapping.json 文件。\")\n",
    "\n",
    "\n"
   ],
   "metadata": {
    "collapsed": false,
    "ExecuteTime": {
     "end_time": "2025-01-08T08:36:17.080029Z",
     "start_time": "2025-01-08T08:36:12.259494Z"
    }
   },
   "id": "8ad51885e3ce83fe",
   "execution_count": 5
  },
  {
   "cell_type": "markdown",
   "source": [
    "# 划分训练集和测试集合  训练集保持在原始位置，测试集输出到新文件夹\n",
    "# Split training set and test set The training set remains in its original location, and the test set is output to a new folder\n"
   ],
   "metadata": {
    "collapsed": false
   },
   "id": "f5ec67172b79acc4"
  },
  {
   "cell_type": "code",
   "outputs": [
    {
     "name": "stderr",
     "output_type": "stream",
     "text": [
      "C:\\Users\\Administrator\\AppData\\Roaming\\Python\\Python38\\site-packages\\albumentations\\__init__.py:13: UserWarning: A new version of Albumentations is available: 1.4.24 (you have 1.4.18). Upgrade using: pip install -U albumentations. To disable automatic update checks, set the environment variable NO_ALBUMENTATIONS_UPDATE to 1.\n",
      "  check_for_updates()\n",
      "Test set partition: 100%|██████████| 3/3 [00:00<00:00, 52.77it/s]\n"
     ]
    }
   ],
   "source": [
    "from Dataset.split_train_test_data import split_test_img_for_one_floder\n",
    "# 构造“一级训练集”和“一级测试集”  \n",
    "# This is to construct the \"training set-particle\"\n",
    "test_data_basename = split_test_img_for_one_floder(output_folder_classified_images_labels,Training_ratio)\n"
   ],
   "metadata": {
    "collapsed": false,
    "ExecuteTime": {
     "end_time": "2025-01-08T08:36:30.400913Z",
     "start_time": "2025-01-08T08:36:17.081023Z"
    }
   },
   "id": "fe7a12f42bdcbdc1",
   "execution_count": 6
  },
  {
   "cell_type": "code",
   "outputs": [
    {
     "name": "stderr",
     "output_type": "stream",
     "text": [
      "Data enhancement: 100%|██████████| 3/3 [00:02<00:00,  1.28it/s]\n"
     ]
    }
   ],
   "source": [
    "from Dataset.data_enhance_for_one import process_img_augment_for_one_floder\n",
    "\n",
    "#对分类后的“一级训练集”进行数据增强\n",
    "# Perform data enhancement on the \"training set-particle\" after classification\n",
    "process_img_augment_for_one_floder(output_folder_classified_images_labels,augmentations,device=device)\n"
   ],
   "metadata": {
    "collapsed": false,
    "ExecuteTime": {
     "end_time": "2025-01-08T08:36:32.788795Z",
     "start_time": "2025-01-08T08:36:30.402908Z"
    }
   },
   "id": "72d6b949942f70d8",
   "execution_count": 7
  },
  {
   "cell_type": "code",
   "outputs": [
    {
     "data": {
      "text/plain": "<Figure size 1000x600 with 1 Axes>",
      "image/png": "[encoded data removed]"
     },
     "metadata": {},
     "output_type": "display_data"
    }
   ],
   "source": [
    "from Dataset.plot_img_count import plot_image_counts\n",
    "# 统计不同类别的颗粒数量\n",
    "# The number of particles of different categories was counted\n",
    "plot_image_counts(output_folder_classified_images_labels)"
   ],
   "metadata": {
    "collapsed": false,
    "ExecuteTime": {
     "end_time": "2025-01-08T08:36:34.535837Z",
     "start_time": "2025-01-08T08:36:32.789793Z"
    }
   },
   "id": "f76c6d511682f134",
   "execution_count": 8
  },
  {
   "cell_type": "markdown",
   "source": [
    "# 开始模型训练 Start training the models"
   ],
   "metadata": {
    "collapsed": false
   },
   "id": "2c8f29f8248bd667"
  },
  {
   "cell_type": "code",
   "outputs": [],
   "source": [
    "# ImageClassifier parameter Settings\n",
    "#model_name\n",
    "#resnet18、resnet50、resnet152、mobilenet_v2、densenet121、alexnet、vgg16\n",
    "#lossname\n",
    "#'CrossEntropyLoss'  'WeightedCrossEntropyLoss'  'FocalLoss'"
   ],
   "metadata": {
    "collapsed": false,
    "ExecuteTime": {
     "end_time": "2025-01-08T08:36:34.551806Z",
     "start_time": "2025-01-08T08:36:34.536805Z"
    }
   },
   "id": "8e61e5aff7393b5b",
   "execution_count": 9
  },
  {
   "cell_type": "code",
   "execution_count": 10,
   "id": "initial_id",
   "metadata": {
    "collapsed": true,
    "ExecuteTime": {
     "end_time": "2025-01-08T08:40:39.487698Z",
     "start_time": "2025-01-08T08:36:34.552790Z"
    }
   },
   "outputs": [
    {
     "name": "stderr",
     "output_type": "stream",
     "text": [
      "C:\\ProgramData\\anaconda3\\envs\\SAMRocks\\lib\\site-packages\\torchvision\\models\\_utils.py:208: UserWarning: The parameter 'pretrained' is deprecated since 0.13 and may be removed in the future, please use 'weights' instead.\n",
      "  warnings.warn(\n",
      "C:\\ProgramData\\anaconda3\\envs\\SAMRocks\\lib\\site-packages\\torchvision\\models\\_utils.py:223: UserWarning: Arguments other than a weight enum or `None` for 'weights' are deprecated since 0.13 and may be removed in the future. The current behavior is equivalent to passing `weights=ResNet18_Weights.IMAGENET1K_V1`. You can also use `weights=ResNet18_Weights.DEFAULT` to get the most up-to-date weights.\n",
      "  warnings.warn(msg)\n",
      "Epoch 1/50: 100%|██████████| 14/14 [00:06<00:00,  2.28it/s, loss=0.00865, accuracy=0.9]   \n"
     ]
    },
    {
     "name": "stdout",
     "output_type": "stream",
     "text": [
      "Save at 0 - [1/50], Loss: 0.1788, Accuracy: 0.9002\n"
     ]
    },
    {
     "name": "stderr",
     "output_type": "stream",
     "text": [
      "Epoch 2/50: 100%|██████████| 14/14 [00:05<00:00,  2.51it/s, loss=0.0031, accuracy=0.994]  \n"
     ]
    },
    {
     "name": "stdout",
     "output_type": "stream",
     "text": [
      "Save at 1 - [2/50], Loss: 0.0215, Accuracy: 0.9944\n"
     ]
    },
    {
     "name": "stderr",
     "output_type": "stream",
     "text": [
      "Epoch 3/50: 100%|██████████| 14/14 [00:05<00:00,  2.68it/s, loss=3.59e-5, accuracy=0.997] \n"
     ]
    },
    {
     "name": "stdout",
     "output_type": "stream",
     "text": [
      "Save at 2 - [3/50], Loss: 0.0043, Accuracy: 0.9966\n"
     ]
    },
    {
     "name": "stderr",
     "output_type": "stream",
     "text": [
      "Epoch 4/50: 100%|██████████| 14/14 [00:04<00:00,  2.92it/s, loss=0.00081, accuracy=0.993] \n",
      "Epoch 5/50: 100%|██████████| 14/14 [00:04<00:00,  2.93it/s, loss=0.000949, accuracy=0.997]\n",
      "Epoch 6/50: 100%|██████████| 14/14 [00:04<00:00,  2.92it/s, loss=0.000845, accuracy=0.998]\n"
     ]
    },
    {
     "name": "stdout",
     "output_type": "stream",
     "text": [
      "Save at 5 - [6/50], Loss: 0.0011, Accuracy: 0.9978\n"
     ]
    },
    {
     "name": "stderr",
     "output_type": "stream",
     "text": [
      "Epoch 7/50: 100%|██████████| 14/14 [00:04<00:00,  2.97it/s, loss=5.94e-5, accuracy=0.998] \n"
     ]
    },
    {
     "name": "stdout",
     "output_type": "stream",
     "text": [
      "Save at 6 - [7/50], Loss: 0.0008, Accuracy: 0.9978\n"
     ]
    },
    {
     "name": "stderr",
     "output_type": "stream",
     "text": [
      "Epoch 8/50: 100%|██████████| 14/14 [00:04<00:00,  2.96it/s, loss=0.000169, accuracy=0.998]\n",
      "Epoch 9/50: 100%|██████████| 14/14 [00:04<00:00,  2.94it/s, loss=0.00025, accuracy=0.999] \n"
     ]
    },
    {
     "name": "stdout",
     "output_type": "stream",
     "text": [
      "Save at 8 - [9/50], Loss: 0.0006, Accuracy: 0.9989\n"
     ]
    },
    {
     "name": "stderr",
     "output_type": "stream",
     "text": [
      "Epoch 10/50: 100%|██████████| 14/14 [00:04<00:00,  2.98it/s, loss=8.15e-5, accuracy=1]\n"
     ]
    },
    {
     "name": "stdout",
     "output_type": "stream",
     "text": [
      "Save at 9 - [10/50], Loss: 0.0001, Accuracy: 1.0000\n"
     ]
    },
    {
     "name": "stderr",
     "output_type": "stream",
     "text": [
      "Epoch 11/50: 100%|██████████| 14/14 [00:04<00:00,  2.89it/s, loss=2.76e-6, accuracy=1]\n"
     ]
    },
    {
     "name": "stdout",
     "output_type": "stream",
     "text": [
      "Save at 10 - [11/50], Loss: 0.0001, Accuracy: 1.0000\n"
     ]
    },
    {
     "name": "stderr",
     "output_type": "stream",
     "text": [
      "Epoch 12/50: 100%|██████████| 14/14 [00:04<00:00,  2.95it/s, loss=9.99e-6, accuracy=1]\n"
     ]
    },
    {
     "name": "stdout",
     "output_type": "stream",
     "text": [
      "Save at 11 - [12/50], Loss: 0.0000, Accuracy: 1.0000\n"
     ]
    },
    {
     "name": "stderr",
     "output_type": "stream",
     "text": [
      "Epoch 13/50: 100%|██████████| 14/14 [00:04<00:00,  2.96it/s, loss=1.19e-5, accuracy=1] \n",
      "Epoch 14/50: 100%|██████████| 14/14 [00:04<00:00,  2.95it/s, loss=5.65e-6, accuracy=1]\n"
     ]
    },
    {
     "name": "stdout",
     "output_type": "stream",
     "text": [
      "Save at 13 - [14/50], Loss: 0.0000, Accuracy: 1.0000\n"
     ]
    },
    {
     "name": "stderr",
     "output_type": "stream",
     "text": [
      "Epoch 15/50: 100%|██████████| 14/14 [00:04<00:00,  2.95it/s, loss=6.88e-6, accuracy=1]\n"
     ]
    },
    {
     "name": "stdout",
     "output_type": "stream",
     "text": [
      "Save at 14 - [15/50], Loss: 0.0000, Accuracy: 1.0000\n"
     ]
    },
    {
     "name": "stderr",
     "output_type": "stream",
     "text": [
      "Epoch 16/50: 100%|██████████| 14/14 [00:04<00:00,  2.95it/s, loss=5.02e-6, accuracy=1]\n",
      "Epoch 17/50: 100%|██████████| 14/14 [00:04<00:00,  2.94it/s, loss=7.3e-6, accuracy=1] \n",
      "Epoch 18/50: 100%|██████████| 14/14 [00:04<00:00,  2.96it/s, loss=2.01e-5, accuracy=1]\n",
      "Epoch 19/50: 100%|██████████| 14/14 [00:04<00:00,  2.95it/s, loss=1e-5, accuracy=1]   \n",
      "Epoch 20/50: 100%|██████████| 14/14 [00:04<00:00,  2.92it/s, loss=3.49e-6, accuracy=1]\n",
      "Epoch 21/50: 100%|██████████| 14/14 [00:04<00:00,  3.00it/s, loss=1.14e-6, accuracy=1]\n"
     ]
    },
    {
     "name": "stdout",
     "output_type": "stream",
     "text": [
      "Save at 20 - [21/50], Loss: 0.0000, Accuracy: 1.0000\n"
     ]
    },
    {
     "name": "stderr",
     "output_type": "stream",
     "text": [
      "Epoch 22/50: 100%|██████████| 14/14 [00:04<00:00,  3.02it/s, loss=1.29e-5, accuracy=1]\n"
     ]
    },
    {
     "name": "stdout",
     "output_type": "stream",
     "text": [
      "Save at 21 - [22/50], Loss: 0.0000, Accuracy: 1.0000\n"
     ]
    },
    {
     "name": "stderr",
     "output_type": "stream",
     "text": [
      "Epoch 23/50: 100%|██████████| 14/14 [00:04<00:00,  3.01it/s, loss=8.73e-6, accuracy=1]\n",
      "Epoch 24/50: 100%|██████████| 14/14 [00:04<00:00,  3.02it/s, loss=3.57e-6, accuracy=1]\n"
     ]
    },
    {
     "name": "stdout",
     "output_type": "stream",
     "text": [
      "Save at 23 - [24/50], Loss: 0.0000, Accuracy: 1.0000\n"
     ]
    },
    {
     "name": "stderr",
     "output_type": "stream",
     "text": [
      "Epoch 25/50: 100%|██████████| 14/14 [00:04<00:00,  2.90it/s, loss=3.39e-7, accuracy=1]\n"
     ]
    },
    {
     "name": "stdout",
     "output_type": "stream",
     "text": [
      "Save at 24 - [25/50], Loss: 0.0000, Accuracy: 1.0000\n"
     ]
    },
    {
     "name": "stderr",
     "output_type": "stream",
     "text": [
      "Epoch 26/50: 100%|██████████| 14/14 [00:04<00:00,  2.95it/s, loss=8.65e-7, accuracy=1]\n",
      "Epoch 27/50: 100%|██████████| 14/14 [00:04<00:00,  2.94it/s, loss=2.62e-6, accuracy=1]\n"
     ]
    },
    {
     "name": "stdout",
     "output_type": "stream",
     "text": [
      "Save at 26 - [27/50], Loss: 0.0000, Accuracy: 1.0000\n"
     ]
    },
    {
     "name": "stderr",
     "output_type": "stream",
     "text": [
      "Epoch 28/50: 100%|██████████| 14/14 [00:04<00:00,  2.95it/s, loss=1.36e-6, accuracy=1]\n"
     ]
    },
    {
     "name": "stdout",
     "output_type": "stream",
     "text": [
      "Save at 27 - [28/50], Loss: 0.0000, Accuracy: 1.0000\n"
     ]
    },
    {
     "name": "stderr",
     "output_type": "stream",
     "text": [
      "Epoch 29/50: 100%|██████████| 14/14 [00:04<00:00,  2.94it/s, loss=1.45e-6, accuracy=1]\n",
      "Epoch 30/50: 100%|██████████| 14/14 [00:04<00:00,  2.93it/s, loss=1.73e-6, accuracy=1]\n"
     ]
    },
    {
     "name": "stdout",
     "output_type": "stream",
     "text": [
      "Save at 29 - [30/50], Loss: 0.0000, Accuracy: 1.0000\n"
     ]
    },
    {
     "name": "stderr",
     "output_type": "stream",
     "text": [
      "Epoch 31/50: 100%|██████████| 14/14 [00:04<00:00,  3.01it/s, loss=2.19e-6, accuracy=1]\n",
      "Epoch 32/50: 100%|██████████| 14/14 [00:04<00:00,  3.01it/s, loss=2.25e-6, accuracy=1]\n",
      "Epoch 33/50: 100%|██████████| 14/14 [00:04<00:00,  3.00it/s, loss=3.25e-7, accuracy=1]\n",
      "Epoch 34/50: 100%|██████████| 14/14 [00:04<00:00,  3.02it/s, loss=4.72e-7, accuracy=1]\n",
      "Epoch 35/50: 100%|██████████| 14/14 [00:04<00:00,  3.01it/s, loss=3.71e-6, accuracy=1]\n"
     ]
    },
    {
     "name": "stdout",
     "output_type": "stream",
     "text": [
      "Save at 34 - [35/50], Loss: 0.0000, Accuracy: 1.0000\n"
     ]
    },
    {
     "name": "stderr",
     "output_type": "stream",
     "text": [
      "Epoch 36/50: 100%|██████████| 14/14 [00:04<00:00,  3.02it/s, loss=2.83e-7, accuracy=1]\n",
      "Epoch 37/50: 100%|██████████| 14/14 [00:04<00:00,  3.00it/s, loss=7.63e-7, accuracy=1]\n"
     ]
    },
    {
     "name": "stdout",
     "output_type": "stream",
     "text": [
      "Save at 36 - [37/50], Loss: 0.0000, Accuracy: 1.0000\n"
     ]
    },
    {
     "name": "stderr",
     "output_type": "stream",
     "text": [
      "Epoch 38/50: 100%|██████████| 14/14 [00:04<00:00,  3.01it/s, loss=6.09e-7, accuracy=1]\n"
     ]
    },
    {
     "name": "stdout",
     "output_type": "stream",
     "text": [
      "Save at 37 - [38/50], Loss: 0.0000, Accuracy: 1.0000\n"
     ]
    },
    {
     "name": "stderr",
     "output_type": "stream",
     "text": [
      "Epoch 39/50: 100%|██████████| 14/14 [00:04<00:00,  3.00it/s, loss=2.64e-6, accuracy=1]\n",
      "Epoch 40/50: 100%|██████████| 14/14 [00:04<00:00,  3.00it/s, loss=1.83e-6, accuracy=1]\n"
     ]
    },
    {
     "name": "stdout",
     "output_type": "stream",
     "text": [
      "Save at 39 - [40/50], Loss: 0.0000, Accuracy: 1.0000\n"
     ]
    },
    {
     "name": "stderr",
     "output_type": "stream",
     "text": [
      "Epoch 41/50: 100%|██████████| 14/14 [00:04<00:00,  3.01it/s, loss=1.23e-5, accuracy=1]\n",
      "Epoch 42/50: 100%|██████████| 14/14 [00:04<00:00,  3.00it/s, loss=1.66e-6, accuracy=1]\n",
      "Epoch 43/50: 100%|██████████| 14/14 [00:04<00:00,  3.01it/s, loss=2.1e-6, accuracy=1] \n",
      "Epoch 44/50: 100%|██████████| 14/14 [00:04<00:00,  3.00it/s, loss=3.03e-7, accuracy=1]\n"
     ]
    },
    {
     "name": "stdout",
     "output_type": "stream",
     "text": [
      "Save at 43 - [44/50], Loss: 0.0000, Accuracy: 1.0000\n"
     ]
    },
    {
     "name": "stderr",
     "output_type": "stream",
     "text": [
      "Epoch 45/50: 100%|██████████| 14/14 [00:04<00:00,  3.00it/s, loss=2.94e-6, accuracy=1]\n",
      "Epoch 46/50: 100%|██████████| 14/14 [00:04<00:00,  2.99it/s, loss=6.16e-7, accuracy=1]\n",
      "Epoch 47/50: 100%|██████████| 14/14 [00:04<00:00,  3.01it/s, loss=1.5e-7, accuracy=1] \n"
     ]
    },
    {
     "name": "stdout",
     "output_type": "stream",
     "text": [
      "Save at 46 - [47/50], Loss: 0.0000, Accuracy: 1.0000\n"
     ]
    },
    {
     "name": "stderr",
     "output_type": "stream",
     "text": [
      "Epoch 48/50: 100%|██████████| 14/14 [00:04<00:00,  3.00it/s, loss=2.61e-7, accuracy=1]\n",
      "Epoch 49/50: 100%|██████████| 14/14 [00:04<00:00,  3.00it/s, loss=6.45e-7, accuracy=1]\n",
      "Epoch 50/50: 100%|██████████| 14/14 [00:04<00:00,  3.01it/s, loss=5.77e-7, accuracy=1]\n"
     ]
    },
    {
     "data": {
      "text/plain": "<Figure size 640x480 with 2 Axes>",
      "image/png": "[encoded data removed]"
     },
     "metadata": {},
     "output_type": "display_data"
    }
   ],
   "source": [
    "from Mineral_segmentation.Classify_tools import ImageClassifier\n",
    "\n",
    "classifier= ImageClassifier(data_dir=output_folder_classified_images_labels, model_name=model_name, batch_size=batch_size, num_epochs=num_epochs, learning_rate=0.001,lossname='FocalLoss')  \n",
    " # 训练模型\n",
    "classifier.train_model() "
   ]
  },
  {
   "cell_type": "code",
   "outputs": [
    {
     "name": "stderr",
     "output_type": "stream",
     "text": [
      "Evaluating: 100%|██████████| 4/4 [00:00<00:00,  6.60it/s]"
     ]
    },
    {
     "name": "stdout",
     "output_type": "stream",
     "text": [
      "Test Accuracy: 1.0000\n",
      "Balanced Accuracy: 1.0000\n",
      "Classification Report:\n",
      "              precision    recall  f1-score   support\n",
      "\n",
      "   Muscovite       0.00      0.00      0.00         0\n",
      "      Quartz       1.00      1.00      1.00       224\n",
      "          um       0.00      0.00      0.00         0\n",
      "\n",
      "   micro avg       1.00      1.00      1.00       224\n",
      "   macro avg       0.33      0.33      0.33       224\n",
      "weighted avg       1.00      1.00      1.00       224\n"
     ]
    },
    {
     "name": "stderr",
     "output_type": "stream",
     "text": [
      "\n"
     ]
    }
   ],
   "source": [
    "# 测试并评价模型\n",
    "report,cm=classifier.evaluate_model()\n"
   ],
   "metadata": {
    "collapsed": false,
    "ExecuteTime": {
     "end_time": "2025-01-08T08:40:40.131975Z",
     "start_time": "2025-01-08T08:40:39.488695Z"
    }
   },
   "id": "33ee516dadcfb29a",
   "execution_count": 11
  },
  {
   "cell_type": "markdown",
   "source": [
    "# 使用训练的模型进行测试\n",
    "# Test using the trained model"
   ],
   "metadata": {
    "collapsed": false
   },
   "id": "7aa785905991ce03"
  },
  {
   "cell_type": "code",
   "outputs": [
    {
     "name": "stderr",
     "output_type": "stream",
     "text": [
      "C:\\ProgramData\\anaconda3\\envs\\SAMRocks\\lib\\site-packages\\torchvision\\models\\_utils.py:208: UserWarning: The parameter 'pretrained' is deprecated since 0.13 and may be removed in the future, please use 'weights' instead.\n",
      "  warnings.warn(\n",
      "C:\\ProgramData\\anaconda3\\envs\\SAMRocks\\lib\\site-packages\\torchvision\\models\\_utils.py:223: UserWarning: Arguments other than a weight enum or `None` for 'weights' are deprecated since 0.13 and may be removed in the future. The current behavior is equivalent to passing `weights=None`.\n",
      "  warnings.warn(msg)\n",
      "D:\\XueRenWorkplace\\pycharmworkplace\\SAMRocks\\Mineral_segmentation\\Classify_tools.py:495: FutureWarning: You are using `torch.load` with `weights_only=False` (the current default value), which uses the default pickle module implicitly. It is possible to construct malicious pickle data which will execute arbitrary code during unpickling (See https://github.com/pytorch/pytorch/blob/main/SECURITY.md#untrusted-models for more details). In a future release, the default value for `weights_only` will be flipped to `True`. This limits the functions that could be executed during unpickling. Arbitrary objects will no longer be allowed to be loaded via this mode unless they are explicitly allowlisted by the user via `torch.serialization.add_safe_globals`. We recommend you start setting `weights_only=True` for any use case where you don't have full control of the loaded file. Please open an issue on GitHub for any issues related to this experimental feature.\n",
      "  self.model.load_state_dict(torch.load(model_path, map_location=self.device))\n"
     ]
    }
   ],
   "source": [
    "from Mineral_segmentation.Classify_tools import ImagePredictor\n",
    "\n",
    "predictor = ImagePredictor(\n",
    "        model_path=classifier.model_save_path,\n",
    "    \n",
    "        model_name= classifier.model_name\n",
    "    )\n",
    "Threshold = 0#概率阈值，小于此概率的会被过滤"
   ],
   "metadata": {
    "collapsed": false,
    "ExecuteTime": {
     "end_time": "2025-01-08T08:40:40.384310Z",
     "start_time": "2025-01-08T08:40:40.132973Z"
    }
   },
   "id": "7bc4f8f951b9ff72",
   "execution_count": 12
  },
  {
   "cell_type": "code",
   "outputs": [
    {
     "name": "stderr",
     "output_type": "stream",
     "text": [
      "test set-particle: 100%|██████████| 3/3 [00:00<00:00,  8.25it/s]"
     ]
    },
    {
     "name": "stdout",
     "output_type": "stream",
     "text": [
      "Accuracy of test set-particle:\n",
      "{'Muscovite': 0.0, 'Quartz': 1.0, 'um': 1.0}\n",
      "Number of  test set-particle:\n",
      "{'Muscovite': 1, 'Quartz': 46, 'um': 1}\n"
     ]
    },
    {
     "name": "stderr",
     "output_type": "stream",
     "text": [
      "\n"
     ]
    }
   ],
   "source": [
    "from tqdm import tqdm\n",
    "\n",
    "#test\n",
    "folder_names = [name for name in os.listdir(test_data_basename) if os.path.isdir(os.path.join(test_data_basename, name))]\n",
    "\n",
    "\n",
    "\n",
    "pre_result = {}\n",
    "name_len={}\n",
    "for name in tqdm(folder_names,desc='test set-particle'):\n",
    "    path = os.path.join(test_data_basename, name)\n",
    "    #当前文件夹对应的label id\n",
    "    floder_label = sorted_classname_mapping.get(name, \"Unknown\")\n",
    "\n",
    "    # print(f'{path}-{name}-{floder_label}')\n",
    "    # 支持的图片扩展名\n",
    "    image_extensions = ('.png', '.jpg', '.jpeg', '.bmp', '.gif', '.tiff')\n",
    "    # 获取文件夹中的所有文件，并筛选出图片\n",
    "    image_files = [f for f in os.listdir(path) if f.lower().endswith(image_extensions)]\n",
    "    # print(image_files[0])\n",
    "    right = 0\n",
    "    for img in image_files:\n",
    "        img_path = os.path.join(path,img)\n",
    "         #来到了一个文件夹下面开始预测\n",
    "        predicted_class,prob = predictor.predict(img_path)\n",
    "        #更新实例类别\n",
    "        if prob >= Threshold:\n",
    "\n",
    "             pre_real_class = map_prediction_to_real_class(sorted_classname_mapping,sorted_classname[predicted_class])\n",
    "             \n",
    "             if pre_real_class == sorted_classname_mapping.get(name):\n",
    "                 right += 1\n",
    "\n",
    "    name_len[name] =  len(image_files)        \n",
    "    pre_result[name] = right/len(image_files)\n",
    "\n",
    "\n",
    "print('Accuracy of test set-particle:')\n",
    "print(pre_result)\n",
    "print('Number of  test set-particle:')\n",
    "print(name_len)\n"
   ],
   "metadata": {
    "collapsed": false,
    "ExecuteTime": {
     "end_time": "2025-01-08T08:40:40.764854Z",
     "start_time": "2025-01-08T08:40:40.385307Z"
    }
   },
   "id": "68719d49187e8683",
   "execution_count": 13
  },
  {
   "cell_type": "markdown",
   "source": [
    "# 各种矿物\"测试集-颗粒\"的识别准确在pre_result中\n",
    "# The identification of various mineral \"test sets - particles\" is accurate in pre_result"
   ],
   "metadata": {
    "collapsed": false
   },
   "id": "cff177b7e0b9ff2f"
  },
  {
   "cell_type": "code",
   "outputs": [
    {
     "name": "stdout",
     "output_type": "stream",
     "text": [
      "Data written: models_result\\resnet18\\test_data_result.csv\n"
     ]
    }
   ],
   "source": [
    "import pandas as pd\n",
    "\n",
    "# Write the result to a file\n",
    "\n",
    "# 将数据合并为 DataFrame\n",
    "df = pd.DataFrame({\n",
    "    'Class name': list(pre_result.keys()),\n",
    "    'Predict result': list(pre_result.values()),\n",
    "    'Test length': [name_len[name] for name in pre_result.keys()]\n",
    "})\n",
    "# # 将数据保存到 Excel 文件\n",
    "\n",
    "excel_path = predictor.model_dir+r'\\test_data_result.csv'\n",
    "# 或者保存为 CSV 文件\n",
    "df.to_csv(excel_path, index=False)\n",
    "\n",
    "print(f\"Data written: {excel_path}\")\n"
   ],
   "metadata": {
    "collapsed": false,
    "ExecuteTime": {
     "end_time": "2025-01-08T08:40:40.796769Z",
     "start_time": "2025-01-08T08:40:40.766848Z"
    }
   },
   "id": "9741ccff3d5ca04b",
   "execution_count": 14
  },
  {
   "cell_type": "code",
   "outputs": [
    {
     "name": "stderr",
     "output_type": "stream",
     "text": [
      "Predict: 100%|██████████| 232/232 [00:01<00:00, 162.16it/s]\n"
     ]
    }
   ],
   "source": [
    "from collections import Counter\n",
    "\n",
    "right = 0#记录预测正确的次数\n",
    "# 初始化一个 Counter 用于记录每个类别的出现次数\n",
    "class_counter = Counter()\n",
    "label_counter = Counter()\n",
    "for index in tqdm(range(len(instances_with_label.instances)),desc=\"Predict\",total = len(instances_with_label.instances)):\n",
    "    instance = instances_with_label.instances[index]#获取一个实例\n",
    "    path =  instance.image_path\n",
    "    predicted_class,prob = predictor.predict(path)\n",
    "    #更新实例类别\n",
    "    if prob >= Threshold:\n",
    "\n",
    "         pre_real_class = map_prediction_to_real_class(sorted_classname_mapping,sorted_classname[predicted_class])\n",
    "    else:\n",
    "        pre_real_class = -1\n",
    "    #更新实例类别id   \n",
    "    # print(real_class)\n",
    "    instance.cluster_id = int(pre_real_class)#现在的类别名是数字，之后要换成类别与id的映射\n",
    "    # 记录类别的出现次数\n",
    "    class_counter[int(pre_real_class)] += 1\n",
    "    label_counter[instance._label_id] += 1\n",
    "\n",
    "\n",
    "\n"
   ],
   "metadata": {
    "collapsed": false,
    "ExecuteTime": {
     "end_time": "2025-01-08T08:40:42.244409Z",
     "start_time": "2025-01-08T08:40:40.797767Z"
    }
   },
   "id": "710653725559bc40",
   "execution_count": 15
  },
  {
   "cell_type": "code",
   "outputs": [
    {
     "name": "stderr",
     "output_type": "stream",
     "text": [
      "Remasking instances: 100%|██████████| 8/8 [00:00<00:00, 27.37it/s]\n",
      "Reassembling masks: 100%|██████████| 232/232 [00:00<00:00, 25847.44it/s]\n",
      "paint : 100%|██████████| 1/1 [00:00<00:00,  7.22it/s]\n"
     ]
    }
   ],
   "source": [
    "from Mineral_segmentation.Recolor_and_Remask import remask_instance_masks\n",
    "from Mineral_segmentation.Reassemble import reassemble_image_masks\n",
    "from Dataset.fill_zero import process_masks\n",
    "\n",
    "#类别赋予 更新实例的_mask,保存新的掩码图像\n",
    "\n",
    "instances_with_label = remask_instance_masks(instances_with_label)\n",
    "\n",
    "out_mask_path = os.path.join(predictor.model_dir,os.path.basename(predictor.model_dir)+'_remask_images')\n",
    "\n",
    "reassembled_mask_paths = reassemble_image_masks(instances_with_label, images,out_mask_path)\n",
    "\n",
    "#填补空值 并重新上色\n",
    "out_color_path = os.path.join(predictor.model_dir,os.path.basename(predictor.model_dir)+'_recolor_images')\n",
    "\n",
    "process_masks(out_mask_path, out_color_path, palette,flag_fill=False)\n"
   ],
   "metadata": {
    "collapsed": false,
    "ExecuteTime": {
     "end_time": "2025-01-08T08:40:42.757861Z",
     "start_time": "2025-01-08T08:40:42.245405Z"
    }
   },
   "id": "f0bddce1dde85ae3",
   "execution_count": 16
  },
  {
   "cell_type": "code",
   "outputs": [
    {
     "name": "stdout",
     "output_type": "stream",
     "text": [
      "Result output to \n",
      " models_result\\resnet18\\resnet18_remask_images \n",
      " and \n",
      " models_result\\resnet18\\resnet18_recolor_images\n"
     ]
    }
   ],
   "source": [
    "print(f\"Result output to \\n {out_mask_path} \\n and \\n {out_color_path}\")"
   ],
   "metadata": {
    "collapsed": false,
    "ExecuteTime": {
     "end_time": "2025-01-08T08:40:42.773818Z",
     "start_time": "2025-01-08T08:40:42.758858Z"
    }
   },
   "id": "771eab5784b6bb4c",
   "execution_count": 17
  },
  {
   "cell_type": "markdown",
   "source": [],
   "metadata": {
    "collapsed": false
   },
   "id": "8bad27e93799c0f"
  }
 ],
 "metadata": {
  "kernelspec": {
   "display_name": "Python 3",
   "language": "python",
   "name": "python3"
  },
  "language_info": {
   "codemirror_mode": {
    "name": "ipython",
    "version": 2
   },
   "file_extension": ".py",
   "mimetype": "text/x-python",
   "name": "python",
   "nbconvert_exporter": "python",
   "pygments_lexer": "ipython2",
   "version": "2.7.6"
  }
 },
 "nbformat": 4,
 "nbformat_minor": 5
}
