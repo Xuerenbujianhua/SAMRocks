{
 "cells": [
  {
   "cell_type": "code",
   "execution_count": null,
   "id": "initial_id",
   "metadata": {
    "collapsed": true
   },
   "outputs": [],
   "source": []
  },
  {
   "cell_type": "code",
   "outputs": [],
   "source": [
    "import torch\n",
    "import albumentations as A\n",
    "import numpy as np\n",
    "from PIL import Image\n",
    "\n",
    "def augment_one_image(image, device, num_augmentations=5):\n",
    "    \"\"\"对图像进行数据增强，每次应用不同的增强方式，生成多个增强图像\"\"\"\n",
    "    \n",
    "    # 定义每种单一的增强操作\n",
    "    augmentations = [\n",
    "        A.Compose([A.HorizontalFlip(p=1)]),  # 水平翻转\n",
    "        A.Compose([A.VerticalFlip(p=1)]),  # 垂直翻转\n",
    "        A.Compose([A.ShiftScaleRotate(shift_limit=0.1, scale_limit=0.3, rotate_limit=30, p=1)]),  # 平移和旋转\n",
    "        A.Compose([A.RandomBrightnessContrast(p=1)]),  # 亮度和对比度调整\n",
    "        A.Compose([A.Blur(blur_limit=3, p=1)]),  # 模糊\n",
    "    ]\n",
    "    \n",
    "    augmented_images = []\n",
    "\n",
    "    # 将输入图像转换为Tensor，并移到GPU上进行处理\n",
    "    image_tensor = torch.from_numpy(image).to(device)\n",
    "\n",
    "    for i in range(num_augmentations):\n",
    "        # 使用不同的增强操作\n",
    "        augmentation_pipeline = augmentations[i]\n",
    "        augmented = augmentation_pipeline(image=image_tensor.cpu().numpy())\n",
    "        augmented_image = augmented['image']\n",
    "        augmented_images.append(augmented_image)\n",
    "    \n",
    "    return augmented_images\n",
    "image = np.array(Image.open(\"11.png\"))  # 加载图像\n",
    "device = torch.device(\"cuda\" if torch.cuda.is_available() else \"cpu\")  # 选择设备\n",
    "augmented_images = augment_one_image(image, device)\n",
    "\n",
    "# 保存增强后的图像\n",
    "for idx, aug_image in enumerate(augmented_images):\n",
    "    aug_image_pil = Image.fromarray(aug_image)\n",
    "    aug_image_pil.save(f\"augmented_image_{idx}.png\")\n"
   ],
   "metadata": {
    "collapsed": false,
    "ExecuteTime": {
     "end_time": "2024-12-29T08:00:20.074630Z",
     "start_time": "2024-12-29T08:00:19.870151Z"
    }
   },
   "id": "efe3df1b45f68493",
   "execution_count": 3
  },
  {
   "cell_type": "code",
   "outputs": [],
   "source": [],
   "metadata": {
    "collapsed": false
   },
   "id": "75835b0d94d37700"
  }
 ],
 "metadata": {
  "kernelspec": {
   "display_name": "Python 3",
   "language": "python",
   "name": "python3"
  },
  "language_info": {
   "codemirror_mode": {
    "name": "ipython",
    "version": 2
   },
   "file_extension": ".py",
   "mimetype": "text/x-python",
   "name": "python",
   "nbconvert_exporter": "python",
   "pygments_lexer": "ipython2",
   "version": "2.7.6"
  }
 },
 "nbformat": 4,
 "nbformat_minor": 5
}
